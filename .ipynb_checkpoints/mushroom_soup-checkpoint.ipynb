{
 "cells": [
  {
   "cell_type": "code",
   "execution_count": 65,
   "metadata": {
    "collapsed": true
   },
   "outputs": [],
   "source": [
    "from bs4 import BeautifulSoup\n",
    "import re"
   ]
  },
  {
   "cell_type": "code",
   "execution_count": 47,
   "metadata": {
    "collapsed": false
   },
   "outputs": [],
   "source": [
    "from urllib.request import urlopen\n",
    "from urllib.error import HTTPError"
   ]
  },
  {
   "cell_type": "code",
   "execution_count": 48,
   "metadata": {
    "collapsed": true
   },
   "outputs": [],
   "source": [
    "html = urlopen(\"http://www.teensource.org/\")"
   ]
  },
  {
   "cell_type": "code",
   "execution_count": 49,
   "metadata": {
    "collapsed": false
   },
   "outputs": [],
   "source": [
    "bsobj = BeautifulSoup(html.read(), \"lxml\")"
   ]
  },
  {
   "cell_type": "markdown",
   "metadata": {
    "collapsed": false
   },
   "source": [
    "### Commented out because too long\n",
    "  \n",
    "\n",
    "print(bsobj)"
   ]
  },
  {
   "cell_type": "code",
   "execution_count": 51,
   "metadata": {
    "collapsed": false
   },
   "outputs": [
    {
     "data": {
      "text/plain": [
       "<h1 class=\"site-name\"><a class=\"active\" href=\"/\" title=\"Home\">TeenSource</a></h1>"
      ]
     },
     "execution_count": 51,
     "metadata": {},
     "output_type": "execute_result"
    }
   ],
   "source": [
    "bsobj.h1"
   ]
  },
  {
   "cell_type": "markdown",
   "metadata": {},
   "source": [
    "## This part is exploring the findAll() function. Simply looking for divs and then displaying the first three discovered."
   ]
  },
  {
   "cell_type": "code",
   "execution_count": 56,
   "metadata": {
    "collapsed": false
   },
   "outputs": [],
   "source": [
    "divList = bsobj.findAll(\"div\",)"
   ]
  },
  {
   "cell_type": "code",
   "execution_count": 106,
   "metadata": {
    "collapsed": false
   },
   "outputs": [
    {
     "data": {
      "text/plain": [
       "[<div id=\"skip-link\">\n",
       " <a class=\"element-invisible element-focusable\" href=\"#main-content\">Skip to main content</a>\n",
       " </div>, <div class=\"region region-page-top\" id=\"region-page-top\">\n",
       " <div class=\"region-inner region-page-top-inner\">\n",
       " </div>\n",
       " </div>]"
      ]
     },
     "execution_count": 106,
     "metadata": {},
     "output_type": "execute_result"
    }
   ],
   "source": [
    "divList[:2]"
   ]
  },
  {
   "cell_type": "markdown",
   "metadata": {},
   "source": [
    "## Instructions copied here for reference\n",
    "\n",
    "div class=\"view view-std-landing view-id-std_landing view-display-id-page_1 std-listing std-landing view-dom-id-e226651fab5a9c2a0b0400e674174744\">\n",
    "\n",
    "[2:03]  \n",
    "on that tag I would want to, in some way, store view--id-std-landing and view-display-id-page_1\n",
    "\n",
    "[2:04]  \n",
    "That combination is enough to know exactly what data is getting output.\n",
    "\n",
    "[2:05]  \n",
    "So, I guess using a library you can look for the prefix view-id- and view-display-id on things that have the class of row.\n",
    "\n",
    "div class=\"zone-wrapper zone-user-wrapper clearfix\" id=\"zone-user-wrapper\">\n",
    "\n",
    "div class=\"zone zone-user clearfix container-12\" id=\"zone-user\">\n",
    "\n",
    "div class=\"grid-4 region region-user-second\" id=\"region-user-second\">\n",
    "\n",
    "div class=\"region-inner region-user-second-inner\">\n"
   ]
  },
  {
   "cell_type": "code",
   "execution_count": 95,
   "metadata": {
    "collapsed": false
   },
   "outputs": [],
   "source": [
    "viewIds = bsobj.findAll(\"div\", {\"class\": re.compile(\"view-(id-|display-id-)\")})"
   ]
  },
  {
   "cell_type": "markdown",
   "metadata": {},
   "source": [
    "# About to show the first entry that the above statement captured: Jason, are we getting close?"
   ]
  },
  {
   "cell_type": "code",
   "execution_count": 100,
   "metadata": {
    "collapsed": false
   },
   "outputs": [
    {
     "data": {
      "text/plain": [
       "[<div class=\"view view-tweets view-id-tweets view-display-id-block tweets-top view-dom-id-eaca78ef5feb889a3188cdbe973d9c6d\">\n",
       " <div class=\"view-content\">\n",
       " <div class=\"views-row views-row-1 views-row-odd views-row-first views-row-last\">\n",
       " <span class=\"views-field views-field-text\"> <span class=\"views-label views-label-text\">Latest News Updates: </span> <span class=\"field-content\">Get FREE condoms from TeenSource! <a href=\"https://t.co/hnI2msz3G9\">https://t.co/hnI2msz3G9</a></span> </span>       —   \n",
       "   <span class=\"views-field views-field-created-time\"> <span class=\"field-content\"><em class=\"placeholder\">1 day 6 hours</em> ago</span> </span> </div>\n",
       " </div>\n",
       " </div>]"
      ]
     },
     "execution_count": 100,
     "metadata": {},
     "output_type": "execute_result"
    }
   ],
   "source": [
    "viewIds[:1]"
   ]
  },
  {
   "cell_type": "code",
   "execution_count": null,
   "metadata": {
    "collapsed": true
   },
   "outputs": [],
   "source": []
  }
 ],
 "metadata": {
  "kernelspec": {
   "display_name": "Python 3",
   "language": "python",
   "name": "python3"
  },
  "language_info": {
   "codemirror_mode": {
    "name": "ipython",
    "version": 3
   },
   "file_extension": ".py",
   "mimetype": "text/x-python",
   "name": "python",
   "nbconvert_exporter": "python",
   "pygments_lexer": "ipython3",
   "version": "3.5.1"
  }
 },
 "nbformat": 4,
 "nbformat_minor": 0
}
