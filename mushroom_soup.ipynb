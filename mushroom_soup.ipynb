{
 "cells": [
  {
   "cell_type": "code",
   "execution_count": 107,
   "metadata": {
    "collapsed": true
   },
   "outputs": [],
   "source": [
    "from bs4 import BeautifulSoup\n",
    "import re"
   ]
  },
  {
   "cell_type": "code",
   "execution_count": 108,
   "metadata": {
    "collapsed": false
   },
   "outputs": [],
   "source": [
    "from urllib.request import urlopen\n",
    "from urllib.error import HTTPError"
   ]
  },
  {
   "cell_type": "code",
   "execution_count": 109,
   "metadata": {
    "collapsed": true
   },
   "outputs": [],
   "source": [
    "html = urlopen(\"http://www.teensource.org/\")"
   ]
  },
  {
   "cell_type": "code",
   "execution_count": 110,
   "metadata": {
    "collapsed": false
   },
   "outputs": [],
   "source": [
    "soup = BeautifulSoup(html.read(), \"lxml\")"
   ]
  },
  {
   "cell_type": "markdown",
   "metadata": {
    "collapsed": false
   },
   "source": [
    "### Commented out because too long\n",
    "  \n",
    "\n",
    "print(bsobj)"
   ]
  },
  {
   "cell_type": "code",
   "execution_count": 111,
   "metadata": {
    "collapsed": false
   },
   "outputs": [
    {
     "data": {
      "text/plain": [
       "<h1 class=\"site-name\"><a class=\"active\" href=\"/\" title=\"Home\">TeenSource</a></h1>"
      ]
     },
     "execution_count": 111,
     "metadata": {},
     "output_type": "execute_result"
    }
   ],
   "source": [
    "soup.h1"
   ]
  },
  {
   "cell_type": "markdown",
   "metadata": {},
   "source": [
    "## This part is exploring the findAll() function. Simply looking for divs and then displaying the first three discovered."
   ]
  },
  {
   "cell_type": "code",
   "execution_count": 112,
   "metadata": {
    "collapsed": false
   },
   "outputs": [],
   "source": [
    "divList = soup.findAll(\"div\",)"
   ]
  },
  {
   "cell_type": "code",
   "execution_count": 113,
   "metadata": {
    "collapsed": false
   },
   "outputs": [
    {
     "data": {
      "text/plain": [
       "[<div id=\"skip-link\">\n",
       " <a class=\"element-invisible element-focusable\" href=\"#main-content\">Skip to main content</a>\n",
       " </div>, <div class=\"region region-page-top\" id=\"region-page-top\">\n",
       " <div class=\"region-inner region-page-top-inner\">\n",
       " </div>\n",
       " </div>]"
      ]
     },
     "execution_count": 113,
     "metadata": {},
     "output_type": "execute_result"
    }
   ],
   "source": [
    "divList[:2]"
   ]
  },
  {
   "cell_type": "markdown",
   "metadata": {},
   "source": [
    "## Instructions copied here for reference\n",
    "\n",
    "div class=\"view view-std-landing view-id-std_landing view-display-id-page_1 std-listing std-landing view-dom-id-e226651fab5a9c2a0b0400e674174744\">\n",
    "\n",
    "[2:03]  \n",
    "on that tag I would want to, in some way, store view--id-std-landing and view-display-id-page_1\n",
    "\n",
    "[2:04]  \n",
    "That combination is enough to know exactly what data is getting output.\n",
    "\n",
    "[2:05]  \n",
    "So, I guess using a library you can look for the prefix view-id- and view-display-id on things that have the class of row.\n",
    "\n",
    "div class=\"zone-wrapper zone-user-wrapper clearfix\" id=\"zone-user-wrapper\">\n",
    "\n",
    "div class=\"zone zone-user clearfix container-12\" id=\"zone-user\">\n",
    "\n",
    "div class=\"grid-4 region region-user-second\" id=\"region-user-second\">\n",
    "\n",
    "div class=\"region-inner region-user-second-inner\">\n"
   ]
  },
  {
   "cell_type": "code",
   "execution_count": 118,
   "metadata": {
    "collapsed": false
   },
   "outputs": [],
   "source": [
    "viewIds = soup.findAll(\"div\", {\"class\": re.compile(\"view-(id-|display-id-)\")})"
   ]
  },
  {
   "cell_type": "markdown",
   "metadata": {},
   "source": [
    "## Showing the first div entry that the above statement captured."
   ]
  },
  {
   "cell_type": "code",
   "execution_count": 119,
   "metadata": {
    "collapsed": false
   },
   "outputs": [
    {
     "data": {
      "text/plain": [
       "[<div class=\"view view-tweets view-id-tweets view-display-id-block tweets-top view-dom-id-9ae954e65ae619bc2f4a864716f8b1d1\">\n",
       " <div class=\"view-content\">\n",
       " <div class=\"views-row views-row-1 views-row-odd views-row-first views-row-last\">\n",
       " <span class=\"views-field views-field-text\"> <span class=\"views-label views-label-text\">Latest News Updates: </span> <span class=\"field-content\">Get FREE condoms from TeenSource! <a href=\"https://t.co/hnI2msz3G9\">https://t.co/hnI2msz3G9</a></span> </span>       —   \n",
       "   <span class=\"views-field views-field-created-time\"> <span class=\"field-content\"><em class=\"placeholder\">3 days 21 hours</em> ago</span> </span> </div>\n",
       " </div>\n",
       " </div>]"
      ]
     },
     "execution_count": 119,
     "metadata": {},
     "output_type": "execute_result"
    }
   ],
   "source": [
    "viewIds[:1]"
   ]
  },
  {
   "cell_type": "markdown",
   "metadata": {},
   "source": [
    "## Displaying just the classes and not the whole div:"
   ]
  },
  {
   "cell_type": "code",
   "execution_count": 145,
   "metadata": {
    "collapsed": false
   },
   "outputs": [
    {
     "name": "stdout",
     "output_type": "stream",
     "text": [
      "['view', 'view-tweets', 'view-id-tweets', 'view-display-id-block', 'tweets-top', 'view-dom-id-9ae954e65ae619bc2f4a864716f8b1d1']\n",
      "['view', 'view-blog-home', 'view-id-blog_home', 'view-display-id-block_1', 'view-dom-id-9477dbf5078631e9186f51f6d5b9dea8']\n",
      "['view', 'view-homepage-buttons', 'view-id-homepage_buttons', 'view-display-id-block', 'view-dom-id-64cbac03085c3bc069adc8f58d741702']\n",
      "['view', 'view-homepage-buttons', 'view-id-homepage_buttons', 'view-display-id-block_1', 'view-dom-id-0d2bd80a0d6478d1f81933127221d8a4']\n",
      "['view', 'view-blog-home', 'view-id-blog_home', 'view-display-id-block_1', 'view-dom-id-1356657e3175c148b550ed2f7eea85db']\n",
      "['view', 'view-tweets', 'view-id-tweets', 'view-display-id-panel_pane_1', 'Tweets', 'view-dom-id-50988e12327a3f4aed7686dc0ada0f40']\n",
      "['view', 'view-meet-our-peer-educators', 'view-id-meet_our_peer_educators', 'view-display-id-panel_pane_1', 'peer-listing', 'view-dom-id-93ad3bd0276c532c1f6f68c0f1798c8b']\n"
     ]
    }
   ],
   "source": [
    "for div in viewIds:\n",
    "    print(div[\"class\"])"
   ]
  },
  {
   "cell_type": "code",
   "execution_count": null,
   "metadata": {
    "collapsed": true
   },
   "outputs": [],
   "source": []
  }
 ],
 "metadata": {
  "kernelspec": {
   "display_name": "Python 3",
   "language": "python",
   "name": "python3"
  },
  "language_info": {
   "codemirror_mode": {
    "name": "ipython",
    "version": 3
   },
   "file_extension": ".py",
   "mimetype": "text/x-python",
   "name": "python",
   "nbconvert_exporter": "python",
   "pygments_lexer": "ipython3",
   "version": "3.5.1"
  }
 },
 "nbformat": 4,
 "nbformat_minor": 0
}
