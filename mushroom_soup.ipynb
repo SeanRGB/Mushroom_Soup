{
 "cells": [
  {
   "cell_type": "code",
   "execution_count": 65,
   "metadata": {
    "collapsed": true
   },
   "outputs": [],
   "source": [
    "from bs4 import BeautifulSoup\n",
    "import re"
   ]
  },
  {
   "cell_type": "code",
   "execution_count": 47,
   "metadata": {
    "collapsed": false
   },
   "outputs": [],
   "source": [
    "from urllib.request import urlopen\n",
    "from urllib.error import HTTPError"
   ]
  },
  {
   "cell_type": "code",
   "execution_count": 48,
   "metadata": {
    "collapsed": true
   },
   "outputs": [],
   "source": [
    "html = urlopen(\"http://www.teensource.org/\")"
   ]
  },
  {
   "cell_type": "code",
   "execution_count": 49,
   "metadata": {
    "collapsed": false
   },
   "outputs": [],
   "source": [
    "bsobj = BeautifulSoup(html.read(), \"lxml\")"
   ]
  },
  {
   "cell_type": "markdown",
   "metadata": {
    "collapsed": false
   },
   "source": [
    "print(bsobj)"
   ]
  },
  {
   "cell_type": "code",
   "execution_count": 51,
   "metadata": {
    "collapsed": false
   },
   "outputs": [
    {
     "data": {
      "text/plain": [
       "<h1 class=\"site-name\"><a class=\"active\" href=\"/\" title=\"Home\">TeenSource</a></h1>"
      ]
     },
     "execution_count": 51,
     "metadata": {},
     "output_type": "execute_result"
    }
   ],
   "source": [
    "bsobj.h1"
   ]
  },
  {
   "cell_type": "code",
   "execution_count": 52,
   "metadata": {
    "collapsed": false
   },
   "outputs": [],
   "source": [
    "def getTitle(url):\n",
    "    html = urlopen(url)\n",
    "    bsobj = BeautifulSoup(html.read(), \"lxml\")\n",
    "    title = bsobj.body.h1\n",
    "    return title"
   ]
  },
  {
   "cell_type": "code",
   "execution_count": 53,
   "metadata": {
    "collapsed": false
   },
   "outputs": [
    {
     "name": "stdout",
     "output_type": "stream",
     "text": [
      "<http.client.HTTPResponse object at 0x1078072e8>\n"
     ]
    }
   ],
   "source": [
    "print(html)"
   ]
  },
  {
   "cell_type": "code",
   "execution_count": 54,
   "metadata": {
    "collapsed": false
   },
   "outputs": [],
   "source": [
    "title = getTitle(\"http://www.teensource.org/\")"
   ]
  },
  {
   "cell_type": "code",
   "execution_count": 55,
   "metadata": {
    "collapsed": false
   },
   "outputs": [
    {
     "name": "stdout",
     "output_type": "stream",
     "text": [
      "<h1 class=\"site-name\"><a class=\"active\" href=\"/\" title=\"Home\">TeenSource</a></h1>\n"
     ]
    }
   ],
   "source": [
    "print(title)"
   ]
  },
  {
   "cell_type": "code",
   "execution_count": 56,
   "metadata": {
    "collapsed": false
   },
   "outputs": [],
   "source": [
    "divList = bsobj.findAll(\"div\",)"
   ]
  },
  {
   "cell_type": "code",
   "execution_count": 79,
   "metadata": {
    "collapsed": false
   },
   "outputs": [
    {
     "data": {
      "text/plain": [
       "<div class=\"zone zone-user clearfix container-12\" id=\"zone-user\">\n",
       "<div class=\"grid-4 region region-user-second\" id=\"region-user-second\">\n",
       "<div class=\"region-inner region-user-second-inner\">\n",
       "<div class=\"block block-views block--exp-site-seach-page block-views-exp-site-seach-page odd block-without-title\" id=\"block-views-exp-site-seach-page\">\n",
       "<div class=\"block-inner clearfix\">\n",
       "<div class=\"content clearfix\">\n",
       "<form accept-charset=\"UTF-8\" action=\"/search\" id=\"views-exposed-form-site-seach-page\" method=\"get\"><div><div class=\"views-exposed-form\">\n",
       "<div class=\"views-exposed-widgets clearfix\">\n",
       "<div class=\"views-exposed-widget views-widget-filter-keys\" id=\"edit-keys-wrapper\">\n",
       "<label for=\"edit-keys\">\n",
       "            Search Terms          </label>\n",
       "<div class=\"views-widget\">\n",
       "<div class=\"form-item form-type-textfield form-item-keys\">\n",
       "<input class=\"form-text\" id=\"edit-keys\" maxlength=\"128\" name=\"keys\" size=\"15\" title=\"Enter the terms you wish to search for.\" type=\"text\" value=\"\"/>\n",
       "</div>\n",
       "</div>\n",
       "</div>\n",
       "<div class=\"views-exposed-widget views-submit-button\">\n",
       "<input class=\"form-submit\" id=\"edit-submit-site-seach\" name=\"\" type=\"submit\" value=\"Search\"/> </div>\n",
       "</div>\n",
       "</div>\n",
       "</div></form> </div>\n",
       "</div>\n",
       "</div><div class=\"block block-block desktop block-43 block-block-43 even block-without-title\" id=\"block-block-43\">\n",
       "<div class=\"block-inner clearfix\">\n",
       "<div class=\"content clearfix\">\n",
       "<p><a class=\"sm facebook\" href=\"https://www.facebook.com/teensource\" target=\"_blank\">Facebook</a><a class=\"sm twitter\" href=\"https://twitter.com/teensource\" target=\"_blank\">Twitter</a><a class=\"sm tumbler\" href=\"https://teensourceorg.tumblr.com/\" target=\"_blank\">Tumbler</a><a class=\"sm youtube\" href=\"https://www.youtube.com/user/teensource\" target=\"_blank\">YouTube</a><a class=\"sm instagram\" href=\"https://www.instagram.com/teensourceorg/\" target=\"_blank\">Instagram</a><a class=\"sm rss\" href=\"http://www.teensource.org/rss.xml\" target=\"_blank\">RSS</a></p> </div>\n",
       "</div>\n",
       "</div> </div>\n",
       "</div> </div>"
      ]
     },
     "execution_count": 79,
     "metadata": {},
     "output_type": "execute_result"
    }
   ],
   "source": [
    "divList[5]"
   ]
  },
  {
   "cell_type": "code",
   "execution_count": 61,
   "metadata": {
    "collapsed": false
   },
   "outputs": [
    {
     "name": "stdout",
     "output_type": "stream",
     "text": [
      "<div id=\"skip-link\">\n",
      "<a class=\"element-invisible element-focusable\" href=\"#main-content\">Skip to main content</a>\n",
      "</div>\n",
      "<div class=\"region region-page-top\" id=\"region-page-top\">\n",
      "<div class=\"region-inner region-page-top-inner\">\n",
      "</div>\n",
      "</div>\n",
      "<div class=\"region-inner region-page-top-inner\">\n",
      "</div>\n",
      "<div class=\"page clearfix\" id=\"page\">\n",
      "<header class=\"section section-header\" id=\"section-header\">\n",
      "<div class=\"zone-wrapper zone-user-wrapper clearfix\" id=\"zone-user-wrapper\">\n",
      "<div class=\"zone zone-user clearfix container-12\" id=\"zone-user\">\n",
      "<div class=\"grid-4 region region-user-second\" id=\"region-user-second\">\n",
      "<div class=\"region-inner region-user-second-inner\">\n",
      "<div class=\"block block-views block--exp-site-seach-page block-views-exp-site-seach-page odd block-without-title\" id=\"block-views-exp-site-seach-page\">\n",
      "<div class=\"block-inner clearfix\">\n",
      "<div class=\"content clearfix\">\n",
      "<form accept-charset=\"UTF-8\" action=\"/search\" id=\"views-exposed-form-site-seach-page\" method=\"get\"><div><div class=\"views-exposed-form\">\n",
      "<div class=\"views-exposed-widgets clearfix\">\n",
      "<div class=\"views-exposed-widget views-widget-filter-keys\" id=\"edit-keys-wrapper\">\n",
      "<label for=\"edit-keys\">\n",
      "            Search Terms          </label>\n",
      "<div class=\"views-widget\">\n",
      "<div class=\"form-item form-type-textfield form-item-keys\">\n",
      "<input class=\"form-text\" id=\"edit-keys\" maxlength=\"128\" name=\"keys\" size=\"15\" title=\"Enter the terms you wish to search for.\" type=\"text\" value=\"\"/>\n",
      "</div>\n",
      "</div>\n",
      "</div>\n",
      "<div class=\"views-exposed-widget views-submit-button\">\n",
      "<input class=\"form-submit\" id=\"edit-submit-site-seach\" name=\"\" type=\"submit\" value=\"Search\"/> </div>\n",
      "</div>\n",
      "</div>\n",
      "</div></form> </div>\n",
      "</div>\n",
      "</div><div class=\"block block-block desktop block-43 block-block-43 even block-without-title\" id=\"block-block-43\">\n",
      "<div class=\"block-inner clearfix\">\n",
      "<div class=\"content clearfix\">\n",
      "<p><a class=\"sm facebook\" href=\"https://www.facebook.com/teensource\" target=\"_blank\">Facebook</a><a class=\"sm twitter\" href=\"https://twitter.com/teensource\" target=\"_blank\">Twitter</a><a class=\"sm tumbler\" href=\"https://teensourceorg.tumblr.com/\" target=\"_blank\">Tumbler</a><a class=\"sm youtube\" href=\"https://www.youtube.com/user/teensource\" target=\"_blank\">YouTube</a><a class=\"sm instagram\" href=\"https://www.instagram.com/teensourceorg/\" target=\"_blank\">Instagram</a><a class=\"sm rss\" href=\"http://www.teensource.org/rss.xml\" target=\"_blank\">RSS</a></p> </div>\n",
      "</div>\n",
      "</div> </div>\n",
      "</div> </div>\n",
      "</div><div class=\"zone-wrapper zone-branding-wrapper clearfix\" id=\"zone-branding-wrapper\">\n",
      "<div class=\"zone zone-branding clearfix container-12\" id=\"zone-branding\">\n",
      "<div class=\"grid-12 region region-branding\" id=\"region-branding\">\n",
      "<div class=\"region-inner region-branding-inner\">\n",
      "<div class=\"branding-data clearfix\">\n",
      "<div class=\"logo-img\">\n",
      "<a class=\"active\" href=\"/\" rel=\"home\" title=\"TeenSource\"><img alt=\"TeenSource\" id=\"logo\" src=\"http://www.teensource.org/sites/default/files/ts-logo.png\"/></a> </div>\n",
      "<hgroup class=\"site-name-slogan\">\n",
      "<h1 class=\"site-name\"><a class=\"active\" href=\"/\" title=\"Home\">TeenSource</a></h1>\n",
      "</hgroup>\n",
      "</div>\n",
      "</div>\n",
      "</div> </div>\n",
      "</div><div class=\"zone-wrapper zone-menu-wrapper clearfix\" id=\"zone-menu-wrapper\">\n",
      "<div class=\"zone zone-menu clearfix container-12\" id=\"zone-menu\">\n",
      "<div class=\"grid-12 region region-menu\" id=\"region-menu\">\n",
      "<div class=\"region-inner region-menu-inner\">\n",
      "<div class=\"block block-superfish block-1 block-superfish-1 odd block-without-title\" id=\"block-superfish-1\">\n",
      "<div class=\"block-inner clearfix\">\n",
      "<div class=\"content clearfix\">\n",
      "<ul class=\"menu sf-menu sf-main-menu sf-horizontal sf-style-white sf-total-items-6 sf-parent-items-4 sf-single-items-2\" id=\"superfish-1\"><li class=\"first odd sf-item-1 sf-depth-1 sf-no-children\" id=\"menu-934-1\"><a class=\"sf-depth-1\" href=\"/find-a-clinic\" title=\"Find a Clinic in California\">Find a Clinic</a></li><li class=\"middle even sf-item-2 sf-depth-1 sf-total-children-4 sf-parent-children-0 sf-single-children-4 menuparent\" id=\"menu-368-1\"><a class=\"sf-depth-1 menuparent\" href=\"/birth-control\" title=\"Birth Control Landing Pages\">Birth Control</a><ul><li class=\"first odd sf-item-1 sf-depth-2 sf-no-children\" id=\"menu-1080-1\"><a class=\"sf-depth-2\" href=\"/birth-control/long-acting-reversible-methods\" title=\"Long-Term Reversible Methods\">Long-Term Reversible Methods</a></li><li class=\"middle even sf-item-2 sf-depth-2 sf-no-children\" id=\"menu-1086-1\"><a class=\"sf-depth-2\" href=\"/birth-control/hormonal-methods\" title=\"Hormonal Methods\">Hormonal Methods</a></li><li class=\"middle odd sf-item-3 sf-depth-2 sf-no-children\" id=\"menu-1082-1\"><a class=\"sf-depth-2\" href=\"/birth-control/barrier-methods\" title=\"Barrier Methods\">Barrier Methods</a></li><li class=\"last even sf-item-4 sf-depth-2 sf-no-children\" id=\"menu-1083-1\"><a class=\"sf-depth-2\" href=\"/birth-control/other-methods\" title=\"Other Methods\">Other Methods</a></li></ul></li><li class=\"middle odd sf-item-3 sf-depth-1 sf-total-children-8 sf-parent-children-0 sf-single-children-8 menuparent\" id=\"menu-767-1\"><a class=\"sf-depth-1 menuparent\" href=\"/std\">STDs</a><ul><li class=\"first odd sf-item-1 sf-depth-2 sf-no-children\" id=\"menu-3459-1\"><a class=\"sf-depth-2\" href=\"/std/chlamydia\" title=\"Chlamydia\">Chlamydia</a></li><li class=\"middle even sf-item-2 sf-depth-2 sf-no-children\" id=\"menu-6057-1\"><a class=\"sf-depth-2\" href=\"/std/hpv-genital-warts\" title=\"HPV\">HPV &amp; Genital Warts</a></li><li class=\"middle odd sf-item-3 sf-depth-2 sf-no-children\" id=\"menu-3460-1\"><a class=\"sf-depth-2\" href=\"/std/gonorrhea\" title=\"Gonorrhea\">Gonorrhea</a></li><li class=\"middle even sf-item-4 sf-depth-2 sf-no-children\" id=\"menu-3461-1\"><a class=\"sf-depth-2\" href=\"/std/hepatitis-b\" title=\"Hepatitis B\">Hepatitis B</a></li><li class=\"middle odd sf-item-5 sf-depth-2 sf-no-children\" id=\"menu-3462-1\"><a class=\"sf-depth-2\" href=\"/std/herpes\" title=\"Herpes\">Herpes</a></li><li class=\"middle even sf-item-6 sf-depth-2 sf-no-children\" id=\"menu-3463-1\"><a class=\"sf-depth-2\" href=\"/std/hiv-aids\" title=\"HIV (AIDS)\">HIV (AIDS)</a></li><li class=\"middle odd sf-item-7 sf-depth-2 sf-no-children\" id=\"menu-3464-1\"><a class=\"sf-depth-2\" href=\"/std/syphilis\" title=\"Syphilis\">Syphilis</a></li><li class=\"last even sf-item-8 sf-depth-2 sf-no-children\" id=\"menu-3465-1\"><a class=\"sf-depth-2\" href=\"/std/trichomoniasis\" title=\"Trichomoniasis\">Trichomoniasis</a></li></ul></li><li class=\"middle even sf-item-4 sf-depth-1 sf-total-children-4 sf-parent-children-0 sf-single-children-4 menuparent\" id=\"menu-5919-1\"><a class=\"sf-depth-1 menuparent\" href=\"/relationships/relationships\">Relationships</a><ul><li class=\"first odd sf-item-1 sf-depth-2 sf-no-children\" id=\"menu-5922-1\"><a class=\"sf-depth-2\" href=\"/relationships/healthyrelationships\">Healthy Relationships</a></li><li class=\"middle even sf-item-2 sf-depth-2 sf-no-children\" id=\"menu-7506-1\"><a class=\"sf-depth-2\" href=\"/relationships/sexuality-gender-identity\">Sexuality + Gender Identity</a></li><li class=\"middle odd sf-item-3 sf-depth-2 sf-no-children\" id=\"menu-5921-1\"><a class=\"sf-depth-2\" href=\"/relationships/family\">Family</a></li><li class=\"last even sf-item-4 sf-depth-2 sf-no-children\" id=\"menu-7507-1\"><a class=\"sf-depth-2\" href=\"/relationships/peers\">Peers</a></li></ul></li><li class=\"middle odd sf-item-5 sf-depth-1 sf-no-children\" id=\"menu-114-1\"><a class=\"sf-depth-1\" href=\"/blog\" title=\"Blogs\">Blogs</a></li><li class=\"last even sf-item-6 sf-depth-1 sf-total-children-10 sf-parent-children-0 sf-single-children-10 menuparent\" id=\"menu-2378-1\"><a class=\"sf-depth-1 menuparent\" href=\"/know-your-rights\" title=\"Teens have rights too...\">Know Your Rights</a><ul><li class=\"first odd sf-item-1 sf-depth-2 sf-no-children\" id=\"menu-7328-1\"><a class=\"sf-depth-2\" href=\"http://www.teensource.org/know-your-rights/teen-advocacy\" title=\"Take Action\">Take Action</a></li><li class=\"middle even sf-item-2 sf-depth-2 sf-no-children\" id=\"menu-7331-1\"><a class=\"sf-depth-2\" href=\"http://www.teensource.org/know-your-rights/confidentiality\" title=\"Confidentiality\">Confidentiality</a></li><li class=\"middle odd sf-item-3 sf-depth-2 sf-no-children\" id=\"menu-7332-1\"><a class=\"sf-depth-2\" href=\"http://www.teensource.org/know-your-rights/affordability\" title=\"Affordability\">Affordability</a></li><li class=\"middle even sf-item-4 sf-depth-2 sf-no-children\" id=\"menu-7333-1\"><a class=\"sf-depth-2\" href=\"http://www.teensource.org/know-your-rights/care-during-school-hours\" title=\"Care During School Hours\">Care During School Hours</a></li><li class=\"middle odd sf-item-5 sf-depth-2 sf-no-children\" id=\"menu-7334-1\"><a class=\"sf-depth-2\" href=\"http://www.teensource.org/know-your-rights/emergency-contraception\" title=\"Emergency Contraception\">Emergency Contraception</a></li><li class=\"middle even sf-item-6 sf-depth-2 sf-no-children\" id=\"menu-7335-1\"><a class=\"sf-depth-2\" href=\"http://www.teensource.org/know-your-rights/abortion\" title=\"Abortion\">Abortion</a></li><li class=\"middle odd sf-item-7 sf-depth-2 sf-no-children\" id=\"menu-7511-1\"><a class=\"sf-depth-2\" href=\"/know-your-rights/pregnant-parenting-teens\">Pregnant + Parenting Teens</a></li><li class=\"middle even sf-item-8 sf-depth-2 sf-no-children\" id=\"menu-7508-1\"><a class=\"sf-depth-2\" href=\"/know-your-rights/minor-consent\">Accessing Services as a Minor</a></li><li class=\"middle odd sf-item-9 sf-depth-2 sf-no-children\" id=\"menu-7514-1\"><a class=\"sf-depth-2\" href=\"/know-your-rights/comprehensive-sex-ed\">Comprehensive Sex Ed</a></li><li class=\"last even sf-item-10 sf-depth-2 sf-no-children\" id=\"menu-7510-1\"><a class=\"sf-depth-2\" href=\"/know-your-rights/consent\">Consent: Yes Means Yes</a></li></ul></li></ul> </div>\n",
      "</div>\n",
      "</div> </div>\n",
      "</div>\n",
      "</div>\n",
      "</div></header>\n",
      "<section class=\"section section-content\" id=\"section-content\">\n",
      "<div class=\"zone-wrapper zone-content-wrapper clearfix\" id=\"zone-content-wrapper\">\n",
      "<div class=\"zone zone-content clearfix container-12\" id=\"zone-content\">\n",
      "<div class=\"grid-12\" id=\"breadcrumb\"><h2 class=\"element-invisible\">You are here</h2><div class=\"breadcrumb\">Home</div></div>\n",
      "<div class=\"grid-12 region region-content\" id=\"region-content\">\n",
      "<div class=\"region-inner region-content-inner\">\n",
      "<a id=\"main-content\"></a>\n",
      "<div class=\"block block-system block-main block-system-main odd block-without-title\" id=\"block-system-main\">\n",
      "<div class=\"block-inner clearfix\">\n",
      "<div class=\"content clearfix\">\n",
      "<div class=\"panel-display panel-2col-bricks clearfix\">\n",
      "<div class=\"panel-panel panel-col-top\">\n",
      "<div class=\"inside\"><div class=\"panel-pane pane-views pane-tweets desktop\">\n",
      "<div class=\"pane-content\">\n",
      "<div class=\"view view-tweets view-id-tweets view-display-id-block tweets-top view-dom-id-eaca78ef5feb889a3188cdbe973d9c6d\">\n",
      "<div class=\"view-content\">\n",
      "<div class=\"views-row views-row-1 views-row-odd views-row-first views-row-last\">\n",
      "<span class=\"views-field views-field-text\"> <span class=\"views-label views-label-text\">Latest News Updates: </span> <span class=\"field-content\">Get FREE condoms from TeenSource! <a href=\"https://t.co/hnI2msz3G9\">https://t.co/hnI2msz3G9</a></span> </span>       —   \n",
      "  <span class=\"views-field views-field-created-time\"> <span class=\"field-content\"><em class=\"placeholder\">1 day 6 hours</em> ago</span> </span> </div>\n",
      "</div>\n",
      "</div> </div>\n",
      "</div>\n",
      "<div class=\"panel-separator\"></div><div class=\"panel-pane pane-block pane-block-43 mobile pane-block desktop\">\n",
      "<h2 class=\"pane-title\">\n",
      "      Join our network    </h2>\n",
      "<div class=\"pane-content\">\n",
      "<p><a class=\"sm facebook\" href=\"https://www.facebook.com/teensource\" target=\"_blank\">Facebook</a><a class=\"sm twitter\" href=\"https://twitter.com/teensource\" target=\"_blank\">Twitter</a><a class=\"sm tumbler\" href=\"https://teensourceorg.tumblr.com/\" target=\"_blank\">Tumbler</a><a class=\"sm youtube\" href=\"https://www.youtube.com/user/teensource\" target=\"_blank\">YouTube</a><a class=\"sm instagram\" href=\"https://www.instagram.com/teensourceorg/\" target=\"_blank\">Instagram</a><a class=\"sm rss\" href=\"http://www.teensource.org/rss.xml\" target=\"_blank\">RSS</a></p> </div>\n",
      "</div>\n",
      "</div>\n",
      "</div>\n",
      "<div class=\"center-wrapper\">\n",
      "<div class=\"panel-panel panel-col-first\">\n",
      "<div class=\"inside\"><div class=\"panel-pane pane-views pane-blog-home desktop\">\n",
      "<h2 class=\"pane-title\">\n",
      "      What's Hot    </h2>\n",
      "<div class=\"pane-content\">\n",
      "<div class=\"view view-blog-home view-id-blog_home view-display-id-block_1 view-dom-id-1b0c77002d02bde9b562fe4a856c4d8c\">\n",
      "<div class=\"view-header\">\n",
      "<div id=\"level\" style=\"display: none\">Find how to pass saliva test: <a href=\"http://www.atotaldetox.com/saliva-detox-products-c92/\">saliva drug test</a>.</div> </div>\n",
      "<div class=\"view-content\">\n",
      "<div class=\"views-row views-row-1 views-row-odd views-row-first\">\n",
      "<div class=\"views-field views-field-title\"> <h2 class=\"field-content\"><a href=\"/hookup/its-important-talk-parent-or-trusted-adult-about-ur-health-they-might-know-more-u-think\">It's important to talk to a parent or trusted adult about ur health. They might know more than u think! </a></h2> </div>\n",
      "<div class=\"views-field views-field-created\"> <span class=\"field-content\">January 11, 2017</span> </div>\n",
      "<div class=\"views-field views-field-body\"> <div class=\"field-content\">No, we’re not saying that you should talk about the intimate details of your...<a class=\"more-link\" href=\"/hookup/its-important-talk-parent-or-trusted-adult-about-ur-health-they-might-know-more-u-think\">Read more »</a></div> </div> </div>\n",
      "<div class=\"views-row views-row-2 views-row-even views-row-last\">\n",
      "<div class=\"views-field views-field-title\"> <h2 class=\"field-content\"><a href=\"/hookup/confused-about-when-get-tested\">Confused about WHEN to get tested?</a></h2> </div>\n",
      "<div class=\"views-field views-field-created\"> <span class=\"field-content\">January 4, 2017</span> </div>\n",
      "<div class=\"views-field views-field-body\"> <div class=\"field-content\">With so many messages telling you to get tested for STDs, it can be confusing...<a class=\"more-link\" href=\"/hookup/confused-about-when-get-tested\">Read more »</a></div> </div> </div>\n",
      "</div>\n",
      "<div class=\"view-footer\">\n",
      "<a class=\"blog-link\" href=\"/blog\">Visit Blog</a> </div>\n",
      "</div> </div>\n",
      "</div>\n",
      "</div>\n",
      "</div>\n",
      "<div class=\"panel-panel panel-col-last\">\n",
      "<div class=\"inside\"><div class='panel-pane pane-custom pane-2 panel-pane pane-block pane-views-exp-clinics-map-page-3 pane-views\" class=\"panel-pane pane-block pane-views-exp-clinics-map-page'>\n",
      "<div class=\"pane-content\">\n",
      "<form accept-charset=\"UTF-8\" action=\"/find-a-clinic\" id=\"views-exposed-form-clinics-map-page-3\" method=\"get\"><div><div class=\"views-exposed-form\"><div class=\"views-exposed-widgets clearfix\"><div class=\"views-exposed-widget views-widget-filter-distance\" id=\"edit-distance-wrapper\"><div class=\"views-widget\"><div class=\"form-item form-type-textfield form-item-distance-postal-code\"><label for=\"edit-distance-postal-code\">Postal code </label> <input class=\"form-text\" id=\"edit-distance-postal-code\" maxlength=\"16\" name=\"zip_code\" size=\"60\" type=\"text\" value=\"\"/></div><div class=\"form-item form-type-textfield form-item-distance-search-distance\"><label for=\"edit-distance-search-distance\">Distance </label> <input class=\"form-text\" id=\"edit-distance-search-distance\" maxlength=\"128\" name=\"distance\" size=\"60\" type=\"text\" value=\"5\"/></div><div class=\"form-item form-type-select form-item-distance-search-units\">Miles</div></div></div><div class=\"views-exposed-widget views-submit-button\"><input class=\"form-submit\" id=\"edit-submit-clinics-map\" name=\"\" type=\"submit\" value=\"Search\"/></div></div></div></div></form> </div>\n",
      "</div>\n",
      "<div class=\"panel-separator\"></div><div class=\"panel-pane pane-views pane-homepage-buttons desktop\">\n",
      "<div class=\"pane-content\">\n",
      "<div class=\"view view-homepage-buttons view-id-homepage_buttons view-display-id-block view-dom-id-dbe4f657a1d6718128a855d266f30368\">\n",
      "<div class=\"view-content\">\n",
      "<ul class=\"jcarousel jcarousel-view--homepage-buttons--block jcarousel-dom-2 jcarousel-skin-default\">\n",
      "<li class=\"jcarousel-item-1 odd\" style=\"display: none;\">\n",
      "<div class=\"views-field views-field-field-button-image\"> <div class=\"field-content\"><a href=\"http://www.teensource.org/sign-up-for-the-hookup\"><img height=\"214\" src=\"http://www.teensource.org/sites/default/files/home_slide_3.png\" width=\"190\"/></a></div> </div></li>\n",
      "<li class=\"jcarousel-item-2 even\" style=\"display: none;\">\n",
      "<div class=\"views-field views-field-field-button-image\"> <div class=\"field-content\"><a href=\"http://www.teensource.org/std\"><img height=\"214\" src=\"http://www.teensource.org/sites/default/files/home_slide_2.png\" width=\"190\"/></a></div> </div></li>\n",
      "<li class=\"jcarousel-item-3 odd\" style=\"display: none;\">\n",
      "<div class=\"views-field views-field-field-button-image\"> <div class=\"field-content\"><a href=\"http://www.teensource.org/condoms/free\"><img height=\"213\" src=\"http://www.teensource.org/sites/default/files/home_slide_4.png\" width=\"190\"/></a></div> </div></li>\n",
      "<li class=\"jcarousel-item-4 even\" style=\"display: none;\">\n",
      "<div class=\"views-field views-field-field-button-image\"> <div class=\"field-content\"><a href=\"http://www.teensource.org/birth-control\"><img height=\"214\" src=\"http://www.teensource.org/sites/default/files/home_slide_1.png\" width=\"190\"/></a></div> </div></li>\n",
      "</ul>\n",
      "</div>\n",
      "</div> </div>\n",
      "</div>\n",
      "<div class=\"panel-separator\"></div><div class=\"panel-pane pane-views pane-homepage-buttons mobile\">\n",
      "<div class=\"pane-content\">\n",
      "<div class=\"view view-homepage-buttons view-id-homepage_buttons view-display-id-block_1 view-dom-id-845cfbe278012dbe7cccc5b7518ecf0c\">\n",
      "<div class=\"view-content\">\n",
      "<div class=\"views-row views-row-1 views-row-odd views-row-first\">\n",
      "<div class=\"views-field views-field-field-mobile-button-image\"> <div class=\"field-content\"><a href=\"http://www.teensource.org/sign-up-for-the-hookup\"><img height=\"280\" src=\"http://www.teensource.org/sites/default/files/HookupMobile.png\" width=\"279\"/></a></div> </div> </div>\n",
      "<div class=\"views-row views-row-2 views-row-even\">\n",
      "<div class=\"views-field views-field-field-mobile-button-image\"> <div class=\"field-content\"><a href=\"http://www.teensource.org/std\"><img height=\"90\" src=\"http://www.teensource.org/sites/default/files/home_slide_mobile_2.png\" width=\"278\"/></a></div> </div> </div>\n",
      "<div class=\"views-row views-row-3 views-row-odd\">\n",
      "<div class=\"views-field views-field-field-mobile-button-image\"> <div class=\"field-content\"><a href=\"http://www.teensource.org/condoms/free\"><img height=\"100\" src=\"http://www.teensource.org/sites/default/files/home_slide_mobile_4.png\" width=\"277\"/></a></div> </div> </div>\n",
      "<div class=\"views-row views-row-4 views-row-even views-row-last\">\n",
      "<div class=\"views-field views-field-field-mobile-button-image\"> <div class=\"field-content\"><a href=\"http://www.teensource.org/birth-control\"><img height=\"89\" src=\"http://www.teensource.org/sites/default/files/home_slide_mobile_1.png\" width=\"278\"/></a></div> </div> </div>\n",
      "</div>\n",
      "</div> </div>\n",
      "</div>\n",
      "</div>\n",
      "</div>\n",
      "</div>\n",
      "<div class=\"panel-panel panel-col-middle\">\n",
      "<div class=\"inside\"><div class=\"panel-pane pane-block pane-block-59 pane-block homepage-hookup\">\n",
      "<div class=\"pane-content\">\n",
      "<h2 class=\"pane-title\">Sign Up for Hookup</h2><form action=\"https://secure.mcommons.com/profiles/join\" class=\"mobilecommons\" method=\"post\"><input name=\"opt_in_path[]\" type=\"hidden\" value=\"OP004472B06DE859B0DBE9E8BC517C32BA\"/><input name=\"redirect_to\" type=\"hidden\" value=\"http://www.teensource.org/hookup/thank-you-signing-hookup\"/><div class=\"field\"><label for=\"phone\">Mobile Phone Number</label> <input id=\"person_phone\" name=\"person[phone]\" type=\"text\"/></div><div class=\"field\"><label for=\"birth\">Year You Were Born</label><input id=\"person_birth_year\" name=\"person[birth_year]\" type=\"text\"/></div><div class=\"field\"><label for=\"zip\">Zip Code</label> <input class=\"postal_code\" id=\"person_postal_code\" name=\"person[postal_code]\" size=\"10\" type=\"text\"/></div><div><input name=\"submit\" type=\"submit\" value=\"Subscribe\"/></div></form><div class=\"description\">Get weekly health + relationship text tips and search for clinics near you. Message &amp; data rates may apply. Text STOP to end. <br/><a href=\"https://www.mobilecommons.com/about/terms-and-conditions/\">Terms and Conditions</a> <a href=\"https://www.mobilecommons.com/about/terms-and-conditions/privacy-policy/\">Privacy Policy</a></div> </div>\n",
      "</div>\n",
      "</div>\n",
      "</div>\n",
      "<div class=\"center-wrapper\">\n",
      "<div class=\"panel-panel panel-col-first\">\n",
      "<div class=\"inside\"><div class=\"panel-pane pane-custom pane-1\">\n",
      "<div class=\"pane-content\">\n",
      "<p style=\"margin-left: 20px;\"><iframe frameborder=\"0\" height=\"315\" src=\"https://www.youtube-nocookie.com/embed/BCXT9U6X2qs?list=PLv2eeOoor-x-hycPywTghypkuPG5_aY4a\" width=\"560\"></iframe></p> </div>\n",
      "</div>\n",
      "</div>\n",
      "</div>\n",
      "<div class=\"panel-panel panel-col-last\">\n",
      "<div class=\"inside\"><div class=\"panel-pane pane-views pane-blog-home mobile\">\n",
      "<h2 class=\"pane-title\">\n",
      "      What's Hot    </h2>\n",
      "<div class=\"pane-content\">\n",
      "<div class=\"view view-blog-home view-id-blog_home view-display-id-block_1 view-dom-id-b8f4dabb7fee8918ecdd69267e0cdef5\">\n",
      "<div class=\"view-header\">\n",
      "<div id=\"level\" style=\"display: none\">Find how to pass saliva test: <a href=\"http://www.atotaldetox.com/saliva-detox-products-c92/\">saliva drug test</a>.</div> </div>\n",
      "<div class=\"view-content\">\n",
      "<div class=\"views-row views-row-1 views-row-odd views-row-first\">\n",
      "<div class=\"views-field views-field-title\"> <h2 class=\"field-content\"><a href=\"/hookup/its-important-talk-parent-or-trusted-adult-about-ur-health-they-might-know-more-u-think\">It's important to talk to a parent or trusted adult about ur health. They might know more than u think! </a></h2> </div>\n",
      "<div class=\"views-field views-field-created\"> <span class=\"field-content\">January 11, 2017</span> </div>\n",
      "<div class=\"views-field views-field-body\"> <div class=\"field-content\">No, we’re not saying that you should talk about the intimate details of your...<a class=\"more-link\" href=\"/hookup/its-important-talk-parent-or-trusted-adult-about-ur-health-they-might-know-more-u-think\">Read more »</a></div> </div> </div>\n",
      "<div class=\"views-row views-row-2 views-row-even views-row-last\">\n",
      "<div class=\"views-field views-field-title\"> <h2 class=\"field-content\"><a href=\"/hookup/confused-about-when-get-tested\">Confused about WHEN to get tested?</a></h2> </div>\n",
      "<div class=\"views-field views-field-created\"> <span class=\"field-content\">January 4, 2017</span> </div>\n",
      "<div class=\"views-field views-field-body\"> <div class=\"field-content\">With so many messages telling you to get tested for STDs, it can be confusing...<a class=\"more-link\" href=\"/hookup/confused-about-when-get-tested\">Read more »</a></div> </div> </div>\n",
      "</div>\n",
      "<div class=\"view-footer\">\n",
      "<a class=\"blog-link\" href=\"/blog\">Visit Blog</a> </div>\n",
      "</div> </div>\n",
      "</div>\n",
      "<div class=\"panel-separator\"></div><div class=\"panel-pane pane-block pane-quicktabs-homepage-social desktop pane-quicktabs\">\n",
      "<div class=\"pane-content\">\n",
      "<div class=\"quicktabs-ui-wrapper\" id=\"quicktabs-homepage_social\"><ul><li><a href=\"#qt-homepage_social-ui-tabs1\">Facebook</a></li><li><a href=\"#qt-homepage_social-ui-tabs2\">Twitter</a></li><li><a href=\"#qt-homepage_social-ui-tabs3\">Instagram</a></li><li><a href=\"#qt-homepage_social-ui-tabs4\">Blog</a></li></ul><div id=\"qt-homepage_social-ui-tabs1\"><div class=\"block block-block block-46 block-block-46 odd block-without-title\" id=\"block-block-46\">\n",
      "<div class=\"block-inner clearfix\">\n",
      "<div class=\"content clearfix\">\n",
      "<iframe allowtransparency=\"true\" frameborder=\"0\" scrolling=\"no\" src=\"//www.facebook.com/plugins/likebox.php?href=https%3A%2F%2Fwww.facebook.com%2Fteensource&amp;width=290&amp;height=395&amp;colorscheme=light&amp;show_faces=false&amp;header=false&amp;stream=true&amp;show_border=false&amp;appId=379615178830661\" style=\"border:none; overflow:hidden; width:290px; height:395px;\"></iframe> </div>\n",
      "</div>\n",
      "</div></div><div id=\"qt-homepage_social-ui-tabs2\"><div class=\"view view-tweets view-id-tweets view-display-id-panel_pane_1 Tweets view-dom-id-089fc21022220b75f14eae1f9075e2f1\">\n",
      "<div class=\"view-header\">\n",
      "<a href=\"http://www.twitter.com/teensource\" target=\"_blank\">Follow @teensource</a> </div>\n",
      "<div class=\"view-content\">\n",
      "<div class=\"views-row views-row-1 views-row-odd views-row-first\">\n",
      "<div class=\"views-field views-field-text\"> <span class=\"field-content\">Get FREE condoms from TeenSource! <a href=\"https://t.co/hnI2msz3G9\">https://t.co/hnI2msz3G9</a></span> </div>\n",
      "<div class=\"views-field views-field-created-time\"> <span class=\"field-content\"><em class=\"placeholder\">1 day 6 hours</em> ago</span> </div> </div>\n",
      "<div class=\"views-row views-row-2 views-row-even\">\n",
      "<div class=\"views-field views-field-text\"> <span class=\"field-content\">RT <a class=\"twitter-timeline-link\" href=\"http://twitter.com/Sexetc\" rel=\"nofollow\" target=\"_blank\">@Sexetc</a>: Comprehensive <a class=\"twitter-timeline-link\" href=\"https://twitter.com//search?q=%23sexEd\" rel=\"nofollow\" target=\"_blank\">#sexEd</a> is vital. Allows you to choose when to become a parent. Please share! <a class=\"twitter-timeline-link\" href=\"https://twitter.com//search?q=%23NoTeenShame\" rel=\"nofollow\" target=\"_blank\">#NoTeenShame</a> <a href=\"https://t.co/gxxsIdAmjF\">https://t.co/gxxsIdAmjF</a></span> </div>\n",
      "<div class=\"views-field views-field-created-time\"> <span class=\"field-content\"><em class=\"placeholder\">1 day 22 hours</em> ago</span> </div> </div>\n",
      "<div class=\"views-row views-row-3 views-row-odd\">\n",
      "<div class=\"views-field views-field-text\"> <span class=\"field-content\">Standing up for your rights this weekend? <a class=\"twitter-timeline-link\" href=\"http://twitter.com/Scarleteen\" rel=\"nofollow\" target=\"_blank\">@Scarleteen</a> has justice + protest sections in their \"Rebel Well\" document <a href=\"https://t.co/0yP8za1nYa\">https://t.co/0yP8za1nYa</a></span> </div>\n",
      "<div class=\"views-field views-field-created-time\"> <span class=\"field-content\"><em class=\"placeholder\">2 days 1 hour</em> ago</span> </div> </div>\n",
      "<div class=\"views-row views-row-4 views-row-even views-row-last\">\n",
      "<div class=\"views-field views-field-text\"> <span class=\"field-content\">RT <a class=\"twitter-timeline-link\" href=\"http://twitter.com/WomensRadio\" rel=\"nofollow\" target=\"_blank\">@WomensRadio</a>: The <a class=\"twitter-timeline-link\" href=\"https://twitter.com//search?q=%23abortion\" rel=\"nofollow\" target=\"_blank\">#abortion</a> rate is at an all-time low and better <a class=\"twitter-timeline-link\" href=\"https://twitter.com//search?q=%23birthcontrol\" rel=\"nofollow\" target=\"_blank\">#birthcontrol</a> is largely to thank. <a href=\"https://t.co/DJuHlk4WkE\">https://t.co/DJuHlk4WkE</a></span> </div>\n",
      "<div class=\"views-field views-field-created-time\"> <span class=\"field-content\"><em class=\"placeholder\">2 days 4 hours</em> ago</span> </div> </div>\n",
      "</div>\n",
      "</div></div><div id=\"qt-homepage_social-ui-tabs3\"><div class=\"block block-block block-48 block-block-48 even block-without-title\" id=\"block-block-48\">\n",
      "<div class=\"block-inner clearfix\">\n",
      "<div class=\"content clearfix\">\n",
      "<p><iframe class=\"snapwidget-widget\" frameborder=\"0\" scrolling=\"no\" src=\"http://snapwidget.com/in/?u=dGVlbnNvdXJjZW9yZ3xpbnwxMjB8Mnw0fGZmZnxub3w1fG5vbmV8b25TdGFydHx5ZXN8eWVz&amp;ve=230415\" style=\"border: none; overflow: hidden; width: 100%; height: 285px;\" title=\"Instagram Widget\"></iframe></p> </div>\n",
      "</div>\n",
      "</div></div><div id=\"qt-homepage_social-ui-tabs4\"><div class=\"block block-blog block-recent block-blog-recent odd block-without-title\" id=\"block-blog-recent\">\n",
      "<div class=\"block-inner clearfix\">\n",
      "<div class=\"content clearfix\">\n",
      "<div class=\"item-list\"><ul><li class=\"first\"><a href=\"/blog/2016/10/not-sure-if-late-night-text-was-real-deal-or-just-booty-call-u-should-say-what-u-mean\">Not sure if that late night text was the real deal or just a booty call? U should say what u mean, whether ur texting or talking.</a></li><li><a href=\"/blog/2016/09/live-central-valley-we-want-hear-you\">Live in the Central Valley? We want to hear from you!</a></li><li><a href=\"/blog/2016/08/pgps-what-are-they\">PGPs! What are they?</a></li><li><a href=\"/blog/2016/08/been-there-done-how-avoid-peer-pressure-high-school\">Been there, done that: Words of wisdom from someone who ditched peer pressure</a></li><li><a href=\"/blog/2016/08/how-avoid-peer-pressure-when-youre-starting-high-school\">How to avoid peer pressure when you're starting high school </a></li><li><a href=\"/blog/2016/08/you-go-back-school-protect-yourself\">Before You Go Back to School, Protect Yourself!</a></li><li><a href=\"/blog/2016/07/peer-pressure-sex\">Feeling Pressured to Have Sex (Or Say You Are?) Read this!</a></li><li><a href=\"/blog/2016/07/next-stop-pok%C3%A9-train-std-knowledge\">Next Stop on the Poké Train? STD Knowledge! </a></li><li><a href=\"/blog/2016/07/%E2%80%9Cwhat-all-guys-need-know-about-hpv\">What all Guys Need to Know about HPV</a></li><li class=\"last\"><a href=\"/blog/2016/07/peer-pressure-alcohol\">Avoiding the Pressure to Drink </a></li></ul></div><div class=\"more-link\"><a href=\"/blog\" title=\"Read the latest blog entries.\">More</a></div> </div>\n",
      "</div>\n",
      "</div></div></div> </div>\n",
      "</div>\n",
      "</div>\n",
      "</div>\n",
      "</div>\n",
      "<div class=\"panel-panel panel-col-bottom\">\n",
      "<div class=\"inside\"><div class=\"panel-pane pane-views-panes pane-meet-our-peer-educators-panel-pane-1\">\n",
      "<h2 class=\"pane-title\">\n",
      "      Meet Our Peer Educators    </h2>\n",
      "<div class=\"pane-content\">\n",
      "<div class=\"view view-meet-our-peer-educators view-id-meet_our_peer_educators view-display-id-panel_pane_1 peer-listing view-dom-id-3a4662dc7bc531ac9174bce3944e46e0\">\n",
      "<div class=\"view-content\">\n",
      "<ul class=\"jcarousel jcarousel-view--meet-our-peer-educators--panel-pane-1 jcarousel-dom-1 jcarousel-skin-default\">\n",
      "<li class=\"jcarousel-item-1 odd\" style=\"display: none;\">\n",
      "<div class=\"views-field views-field-field-profile-image\"> <div class=\"field-content\"><a href=\"/users/105\"><img alt=\"\" height=\"50\" src=\"http://www.teensource.org/sites/default/files/styles/80x80/public/maddie.jpg?itok=Sf5UZnz9\" width=\"80\"/></a></div> </div>\n",
      "<div class=\"views-field views-field-field-name\"> <h3 class=\"field-content\">Madelyn</h3> </div>\n",
      "<div class=\"views-field views-field-field-biography\"> <div class=\"field-content\">2014 Peer Educator My name is Madelyn but I go by<a class=\"more-link\" href=\"/users/105\">[...]</a></div> </div></li>\n",
      "<li class=\"jcarousel-item-2 even\" style=\"display: none;\">\n",
      "<div class=\"views-field views-field-field-profile-image\"> <div class=\"field-content\"><a href=\"/users/106\"><img alt=\"\" height=\"50\" src=\"http://www.teensource.org/sites/default/files/styles/80x80/public/vianey.jpg?itok=7btgKXSx\" width=\"80\"/></a></div> </div>\n",
      "<div class=\"views-field views-field-field-name\"> <h3 class=\"field-content\">Vianey</h3> </div>\n",
      "<div class=\"views-field views-field-field-biography\"> <div class=\"field-content\">2014 Peer Educator Hello, my name is Vianey (<a class=\"more-link\" href=\"/users/106\">[...]</a></div> </div></li>\n",
      "<li class=\"jcarousel-item-3 odd\" style=\"display: none;\">\n",
      "<div class=\"views-field views-field-field-profile-image\"> <div class=\"field-content\"><a href=\"/users/2272\"><img alt=\"\" height=\"50\" src=\"http://www.teensource.org/sites/default/files/styles/80x80/public/Kahmaria.jpg?itok=oRNGBfRf\" width=\"80\"/></a></div> </div>\n",
      "<div class=\"views-field views-field-field-name\"> <h3 class=\"field-content\">Kahmaria</h3> </div>\n",
      "<div class=\"views-field views-field-field-biography\"> <div class=\"field-content\">2015 Peer Educator My name is Kahmaria. I am 17<a class=\"more-link\" href=\"/users/2272\">[...]</a></div> </div></li>\n",
      "<li class=\"jcarousel-item-4 even\" style=\"display: none;\">\n",
      "<div class=\"views-field views-field-field-profile-image\"> <div class=\"field-content\"><a href=\"/users/102\"><img alt=\"\" height=\"50\" src=\"http://www.teensource.org/sites/default/files/styles/80x80/public/arlington.jpg?itok=OXephq3F\" width=\"80\"/></a></div> </div>\n",
      "<div class=\"views-field views-field-field-name\"> <h3 class=\"field-content\">Arlington</h3> </div>\n",
      "<div class=\"views-field views-field-field-biography\"> <div class=\"field-content\">2014 Peer Educator My name is Arlington Clarence<a class=\"more-link\" href=\"/users/102\">[...]</a></div> </div></li>\n",
      "<li class=\"jcarousel-item-5 odd\" style=\"display: none;\">\n",
      "<div class=\"views-field views-field-field-profile-image\"> <div class=\"field-content\"><a href=\"/users/100\"><img alt=\"\" height=\"50\" src=\"http://www.teensource.org/sites/default/files/styles/80x80/public/nossin.jpg?itok=W8IE5Z4L\" width=\"80\"/></a></div> </div>\n",
      "<div class=\"views-field views-field-field-name\"> <h3 class=\"field-content\">Nossin</h3> </div>\n",
      "<div class=\"views-field views-field-field-biography\"> <div class=\"field-content\">2014 Peer Educator Hi, my name is Nossin (<a class=\"more-link\" href=\"/users/100\">[...]</a></div> </div></li>\n",
      "<li class=\"jcarousel-item-6 even\" style=\"display: none;\">\n",
      "<div class=\"views-field views-field-field-profile-image\"> <div class=\"field-content\"><a href=\"/users/2270\"><img alt=\"\" height=\"50\" src=\"http://www.teensource.org/sites/default/files/styles/80x80/public/Jose.jpg?itok=F8NTxrI6\" width=\"80\"/></a></div> </div>\n",
      "<div class=\"views-field views-field-field-name\"> <h3 class=\"field-content\">Jose</h3> </div>\n",
      "<div class=\"views-field views-field-field-biography\"> <div class=\"field-content\">2015 Peer Educator Hey there everyone, my name is<a class=\"more-link\" href=\"/users/2270\">[...]</a></div> </div></li>\n",
      "<li class=\"jcarousel-item-7 odd\" style=\"display: none;\">\n",
      "<div class=\"views-field views-field-field-profile-image\"> <div class=\"field-content\"><a href=\"/users/107\"><img alt=\"\" height=\"50\" src=\"http://www.teensource.org/sites/default/files/styles/80x80/public/danielle.jpg?itok=SvOx1aHH\" width=\"80\"/></a></div> </div>\n",
      "<div class=\"views-field views-field-field-name\"> <h3 class=\"field-content\">Danielle</h3> </div>\n",
      "<div class=\"views-field views-field-field-biography\"> <div class=\"field-content\">2014 Peer Educator Hey! My name is Danielle, but<a class=\"more-link\" href=\"/users/107\">[...]</a></div> </div></li>\n",
      "<li class=\"jcarousel-item-8 even\" style=\"display: none;\">\n",
      "<div class=\"views-field views-field-field-profile-image\"> <div class=\"field-content\"><a href=\"/users/98\"><img alt=\"\" height=\"50\" src=\"http://www.teensource.org/sites/default/files/styles/80x80/public/rocio.jpg?itok=wc48Gwth\" width=\"80\"/></a></div> </div>\n",
      "<div class=\"views-field views-field-field-name\"> <h3 class=\"field-content\">Rocio</h3> </div>\n",
      "<div class=\"views-field views-field-field-biography\"> <div class=\"field-content\">2014 Peer Educator My name is Rocio. I am from<a class=\"more-link\" href=\"/users/98\">[...]</a></div> </div></li>\n",
      "<li class=\"jcarousel-item-9 odd\" style=\"display: none;\">\n",
      "<div class=\"views-field views-field-field-profile-image\"> <div class=\"field-content\"><a href=\"/users/2271\"><img alt=\"\" height=\"50\" src=\"http://www.teensource.org/sites/default/files/styles/80x80/public/Joseph.jpg?itok=NGscb3Fa\" width=\"80\"/></a></div> </div>\n",
      "<div class=\"views-field views-field-field-name\"> <h3 class=\"field-content\">Joseph</h3> </div>\n",
      "<div class=\"views-field views-field-field-biography\"> <div class=\"field-content\">2015 Peer Educator Hello, I am Joseph. I am in my<a class=\"more-link\" href=\"/users/2271\">[...]</a></div> </div></li>\n",
      "<li class=\"jcarousel-item-10 even\" style=\"display: none;\">\n",
      "<div class=\"views-field views-field-field-profile-image\"> <div class=\"field-content\"><a href=\"/users/103\"><img alt=\"\" height=\"50\" src=\"http://www.teensource.org/sites/default/files/styles/80x80/public/isaiah.jpg?itok=nVURgBrA\" width=\"80\"/></a></div> </div>\n",
      "<div class=\"views-field views-field-field-name\"> <h3 class=\"field-content\">Isaiah</h3> </div>\n",
      "<div class=\"views-field views-field-field-biography\"> <div class=\"field-content\">2014 Peer Educator Hello, my name is Isaiah. I<a class=\"more-link\" href=\"/users/103\">[...]</a></div> </div></li>\n",
      "<li class=\"jcarousel-item-11 odd\" style=\"display: none;\">\n",
      "<div class=\"views-field views-field-field-profile-image\"> <div class=\"field-content\"><a href=\"/users/104\"><img alt=\"\" height=\"50\" src=\"http://www.teensource.org/sites/default/files/styles/80x80/public/claudia.jpg?itok=V_9nWSbm\" width=\"80\"/></a></div> </div>\n",
      "<div class=\"views-field views-field-field-name\"> <h3 class=\"field-content\">Claudia</h3> </div>\n",
      "<div class=\"views-field views-field-field-biography\"> <div class=\"field-content\">2014 Peer Educator Hello my name is Claudia. I<a class=\"more-link\" href=\"/users/104\">[...]</a></div> </div></li>\n",
      "<li class=\"jcarousel-item-12 even\" style=\"display: none;\">\n",
      "<div class=\"views-field views-field-field-profile-image\"> <div class=\"field-content\"><a href=\"/users/2275\"><img alt=\"\" height=\"50\" src=\"http://www.teensource.org/sites/default/files/styles/80x80/public/Marissa.jpg?itok=sLFZt_T6\" width=\"80\"/></a></div> </div>\n",
      "<div class=\"views-field views-field-field-name\"> <h3 class=\"field-content\">Marissa</h3> </div>\n",
      "<div class=\"views-field views-field-field-biography\"> <div class=\"field-content\">2015 Peer Educator Hi my name is Marissa . I live<a class=\"more-link\" href=\"/users/2275\">[...]</a></div> </div></li>\n",
      "<li class=\"jcarousel-item-13 odd\" style=\"display: none;\">\n",
      "<div class=\"views-field views-field-field-profile-image\"> <div class=\"field-content\"><a href=\"/users/2421\"><img alt=\"\" height=\"50\" src=\"http://www.teensource.org/sites/default/files/styles/80x80/public/Sonia.jpg?itok=UFwSUN0a\" width=\"80\"/></a></div> </div>\n",
      "<div class=\"views-field views-field-field-name\"> <h3 class=\"field-content\">Sonia</h3> </div>\n",
      "<div class=\"views-field views-field-field-biography\"> <div class=\"field-content\">2015 Peer Educator Hello everyone, my name is<a class=\"more-link\" href=\"/users/2421\">[...]</a></div> </div></li>\n",
      "<li class=\"jcarousel-item-14 even\" style=\"display: none;\">\n",
      "<div class=\"views-field views-field-field-profile-image\"> <div class=\"field-content\"><a href=\"/users/2268\"><img alt=\"\" height=\"50\" src=\"http://www.teensource.org/sites/default/files/styles/80x80/public/Amber.jpg?itok=FJgbDsV2\" width=\"80\"/></a></div> </div>\n",
      "<div class=\"views-field views-field-field-name\"> <h3 class=\"field-content\">Amber</h3> </div>\n",
      "<div class=\"views-field views-field-field-biography\"> <div class=\"field-content\">2015 Peer Educator Hey, my name is Amber. I am<a class=\"more-link\" href=\"/users/2268\">[...]</a></div> </div></li>\n",
      "<li class=\"jcarousel-item-15 odd\" style=\"display: none;\">\n",
      "<div class=\"views-field views-field-field-profile-image\"> <div class=\"field-content\"><a href=\"/users/101\"><img alt=\"\" height=\"50\" src=\"http://www.teensource.org/sites/default/files/styles/80x80/public/leslie.jpg?itok=IRsRjCGR\" width=\"80\"/></a></div> </div>\n",
      "<div class=\"views-field views-field-field-name\"> <h3 class=\"field-content\">Leslie</h3> </div>\n",
      "<div class=\"views-field views-field-field-biography\"> <div class=\"field-content\">2014 Peer Educator Hello, my name is Leslie and I<a class=\"more-link\" href=\"/users/101\">[...]</a></div> </div></li>\n",
      "<li class=\"jcarousel-item-16 even\" style=\"display: none;\">\n",
      "<div class=\"views-field views-field-field-profile-image\"> <div class=\"field-content\"><a href=\"/users/2273\"><img alt=\"\" height=\"50\" src=\"http://www.teensource.org/sites/default/files/styles/80x80/public/Lauren1.jpg?itok=bcVhBT-_\" width=\"80\"/></a></div> </div>\n",
      "<div class=\"views-field views-field-field-name\"> <h3 class=\"field-content\">Lauren</h3> </div>\n",
      "<div class=\"views-field views-field-field-biography\"> <div class=\"field-content\">2015 Peer Educator Hi! My name is Lauren, and I'm<a class=\"more-link\" href=\"/users/2273\">[...]</a></div> </div></li>\n",
      "<li class=\"jcarousel-item-17 odd\" style=\"display: none;\">\n",
      "<div class=\"views-field views-field-field-profile-image\"> <div class=\"field-content\"><a href=\"/users/99\"><img alt=\"\" height=\"50\" src=\"http://www.teensource.org/sites/default/files/styles/80x80/public/victoria.jpg?itok=YCGd1jIw\" width=\"80\"/></a></div> </div>\n",
      "<div class=\"views-field views-field-field-name\"> <h3 class=\"field-content\">Victoria</h3> </div>\n",
      "<div class=\"views-field views-field-field-biography\"> <div class=\"field-content\">2014 Peer Educator Hello, everyone! My name is<a class=\"more-link\" href=\"/users/99\">[...]</a></div> </div></li>\n",
      "<li class=\"jcarousel-item-18 even\" style=\"display: none;\">\n",
      "<div class=\"views-field views-field-field-profile-image\"> <div class=\"field-content\"><a href=\"/users/2276\"><img alt=\"\" height=\"50\" src=\"http://www.teensource.org/sites/default/files/styles/80x80/public/Markia.jpg?itok=tWMcc_Iy\" width=\"80\"/></a></div> </div>\n",
      "<div class=\"views-field views-field-field-name\"> <h3 class=\"field-content\">Markia</h3> </div>\n",
      "<div class=\"views-field views-field-field-biography\"> <div class=\"field-content\">2015 Peer Educator My name is Markia. I live in<a class=\"more-link\" href=\"/users/2276\">[...]</a></div> </div></li>\n",
      "<li class=\"jcarousel-item-19 odd\" style=\"display: none;\">\n",
      "<div class=\"views-field views-field-field-profile-image\"> <div class=\"field-content\"><a href=\"/users/2269\"><img alt=\"\" height=\"50\" src=\"http://www.teensource.org/sites/default/files/styles/80x80/public/Carolina.jpg?itok=7cs_U3H4\" width=\"80\"/></a></div> </div>\n",
      "<div class=\"views-field views-field-field-name\"> <h3 class=\"field-content\">Carolina</h3> </div>\n",
      "<div class=\"views-field views-field-field-biography\"> <div class=\"field-content\">2015 Peer Educator Hey everyone! My name is<a class=\"more-link\" href=\"/users/2269\">[...]</a></div> </div></li>\n",
      "<li class=\"jcarousel-item-20 even\" style=\"display: none;\">\n",
      "<div class=\"views-field views-field-field-profile-image\"> <div class=\"field-content\"><a href=\"/users/2274\"><img alt=\"\" height=\"50\" src=\"http://www.teensource.org/sites/default/files/styles/80x80/public/Angelica.jpg?itok=L5kJhJni\" width=\"80\"/></a></div> </div>\n",
      "<div class=\"views-field views-field-field-name\"> <h3 class=\"field-content\">Angelica</h3> </div>\n",
      "<div class=\"views-field views-field-field-biography\"> <div class=\"field-content\">2015 Peer Educator Hi! My name is Lilia, but I<a class=\"more-link\" href=\"/users/2274\">[...]</a></div> </div></li>\n",
      "</ul>\n",
      "</div>\n",
      "<div class=\"view-footer\">\n",
      "<p><a class=\"blog-link\" href=\"#\" rel=\"nofollow\">4 Teens by Teens</a></p>\n",
      "</div>\n",
      "</div> </div>\n",
      "</div>\n",
      "</div>\n",
      "</div>\n",
      "</div>\n",
      "</div>\n",
      "</div>\n",
      "</div> </div>\n",
      "</div> </div>\n",
      "</div></section>\n",
      "<footer class=\"section section-footer\" id=\"section-footer\">\n",
      "<div class=\"zone-wrapper zone-footer-wrapper clearfix\" id=\"zone-footer-wrapper\">\n",
      "<div class=\"zone zone-footer clearfix container-12\" id=\"zone-footer\">\n",
      "<div class=\"grid-12 region region-footer-first\" id=\"region-footer-first\">\n",
      "<div class=\"region-inner region-footer-first-inner\">\n",
      "<div class=\"block block-block block-3 block-block-3 odd block-without-title\" id=\"block-block-3\">\n",
      "<div class=\"block-inner clearfix\">\n",
      "<div class=\"content clearfix\">\n",
      "<p><a href=\"http://www.teensource.org/about-us\">About Us</a> | <a href=\"http://www.teensource.org/contact\">Contact</a> | <a href=\"http://www.teensource.org/privacy-policy\">Privacy Policy</a> | <a href=\"http://www.teensource.org/terms-of-use\">Terms of Use</a> | <a href=\"http://www.teensource.org/get-involved-teensource\">Guest Posting Policy</a></p> </div>\n",
      "</div>\n",
      "</div> </div>\n",
      "</div><div class=\"grid-12 region region-footer-second\" id=\"region-footer-second\">\n",
      "<div class=\"region-inner region-footer-second-inner\">\n",
      "<div class=\"block block-block block-44 block-block-44 odd block-without-title\" id=\"block-block-44\">\n",
      "<div class=\"block-inner clearfix\">\n",
      "<div class=\"content clearfix\">\n",
      "<p>TeenSource is a project of the <a href=\"http://www.essentialaccess.org/\" target=\"_blank\">Essential Access Health</a>. © Copyright 2016. All Rights Reserved.</p>\n",
      "</div>\n",
      "</div>\n",
      "</div> </div>\n",
      "</div> </div>\n",
      "</div></footer> </div>\n",
      "<div class=\"zone-wrapper zone-user-wrapper clearfix\" id=\"zone-user-wrapper\">\n",
      "<div class=\"zone zone-user clearfix container-12\" id=\"zone-user\">\n",
      "<div class=\"grid-4 region region-user-second\" id=\"region-user-second\">\n",
      "<div class=\"region-inner region-user-second-inner\">\n",
      "<div class=\"block block-views block--exp-site-seach-page block-views-exp-site-seach-page odd block-without-title\" id=\"block-views-exp-site-seach-page\">\n",
      "<div class=\"block-inner clearfix\">\n",
      "<div class=\"content clearfix\">\n",
      "<form accept-charset=\"UTF-8\" action=\"/search\" id=\"views-exposed-form-site-seach-page\" method=\"get\"><div><div class=\"views-exposed-form\">\n",
      "<div class=\"views-exposed-widgets clearfix\">\n",
      "<div class=\"views-exposed-widget views-widget-filter-keys\" id=\"edit-keys-wrapper\">\n",
      "<label for=\"edit-keys\">\n",
      "            Search Terms          </label>\n",
      "<div class=\"views-widget\">\n",
      "<div class=\"form-item form-type-textfield form-item-keys\">\n",
      "<input class=\"form-text\" id=\"edit-keys\" maxlength=\"128\" name=\"keys\" size=\"15\" title=\"Enter the terms you wish to search for.\" type=\"text\" value=\"\"/>\n",
      "</div>\n",
      "</div>\n",
      "</div>\n",
      "<div class=\"views-exposed-widget views-submit-button\">\n",
      "<input class=\"form-submit\" id=\"edit-submit-site-seach\" name=\"\" type=\"submit\" value=\"Search\"/> </div>\n",
      "</div>\n",
      "</div>\n",
      "</div></form> </div>\n",
      "</div>\n",
      "</div><div class=\"block block-block desktop block-43 block-block-43 even block-without-title\" id=\"block-block-43\">\n",
      "<div class=\"block-inner clearfix\">\n",
      "<div class=\"content clearfix\">\n",
      "<p><a class=\"sm facebook\" href=\"https://www.facebook.com/teensource\" target=\"_blank\">Facebook</a><a class=\"sm twitter\" href=\"https://twitter.com/teensource\" target=\"_blank\">Twitter</a><a class=\"sm tumbler\" href=\"https://teensourceorg.tumblr.com/\" target=\"_blank\">Tumbler</a><a class=\"sm youtube\" href=\"https://www.youtube.com/user/teensource\" target=\"_blank\">YouTube</a><a class=\"sm instagram\" href=\"https://www.instagram.com/teensourceorg/\" target=\"_blank\">Instagram</a><a class=\"sm rss\" href=\"http://www.teensource.org/rss.xml\" target=\"_blank\">RSS</a></p> </div>\n",
      "</div>\n",
      "</div> </div>\n",
      "</div> </div>\n",
      "</div>\n"
     ]
    }
   ],
   "source": [
    "for div in divList[:5]:\n",
    "    print(div)"
   ]
  },
  {
   "cell_type": "code",
   "execution_count": null,
   "metadata": {
    "collapsed": false
   },
   "outputs": [],
   "source": []
  },
  {
   "cell_type": "markdown",
   "metadata": {},
   "source": [
    "div class=\"view view-std-landing view-id-std_landing view-display-id-page_1 std-listing std-landing view-dom-id-e226651fab5a9c2a0b0400e674174744\">\n",
    "\n",
    "[2:03]  \n",
    "on that tag I would want to, in some way, store view--id-std-landing and view-display-id-page_1\n",
    "\n",
    "[2:04]  \n",
    "That combination is enough to know exactly what data is getting output.\n",
    "\n",
    "[2:05]  \n",
    "So, I guess using a library you can look for the prefix view-id- and view-display-id on things that have the class of row.\n",
    "\n",
    "div class=\"zone-wrapper zone-user-wrapper clearfix\" id=\"zone-user-wrapper\">\n",
    "\n",
    "div class=\"zone zone-user clearfix container-12\" id=\"zone-user\">\n",
    "\n",
    "div class=\"grid-4 region region-user-second\" id=\"region-user-second\">\n",
    "\n",
    "div class=\"region-inner region-user-second-inner\">\n"
   ]
  },
  {
   "cell_type": "code",
   "execution_count": 88,
   "metadata": {
    "collapsed": false
   },
   "outputs": [],
   "source": [
    "viewIds = bsobj.findAll(\"div\", {\"class\": re.compile(\"view.(id-|display-id)\")})"
   ]
  },
  {
   "cell_type": "code",
   "execution_count": 90,
   "metadata": {
    "collapsed": false
   },
   "outputs": [
    {
     "data": {
      "text/plain": [
       "[<div class=\"view view-tweets view-id-tweets view-display-id-block tweets-top view-dom-id-eaca78ef5feb889a3188cdbe973d9c6d\">\n",
       " <div class=\"view-content\">\n",
       " <div class=\"views-row views-row-1 views-row-odd views-row-first views-row-last\">\n",
       " <span class=\"views-field views-field-text\"> <span class=\"views-label views-label-text\">Latest News Updates: </span> <span class=\"field-content\">Get FREE condoms from TeenSource! <a href=\"https://t.co/hnI2msz3G9\">https://t.co/hnI2msz3G9</a></span> </span>       —   \n",
       "   <span class=\"views-field views-field-created-time\"> <span class=\"field-content\"><em class=\"placeholder\">1 day 6 hours</em> ago</span> </span> </div>\n",
       " </div>\n",
       " </div>,\n",
       " <div class=\"view view-blog-home view-id-blog_home view-display-id-block_1 view-dom-id-1b0c77002d02bde9b562fe4a856c4d8c\">\n",
       " <div class=\"view-header\">\n",
       " <div id=\"level\" style=\"display: none\">Find how to pass saliva test: <a href=\"http://www.atotaldetox.com/saliva-detox-products-c92/\">saliva drug test</a>.</div> </div>\n",
       " <div class=\"view-content\">\n",
       " <div class=\"views-row views-row-1 views-row-odd views-row-first\">\n",
       " <div class=\"views-field views-field-title\"> <h2 class=\"field-content\"><a href=\"/hookup/its-important-talk-parent-or-trusted-adult-about-ur-health-they-might-know-more-u-think\">It's important to talk to a parent or trusted adult about ur health. They might know more than u think! </a></h2> </div>\n",
       " <div class=\"views-field views-field-created\"> <span class=\"field-content\">January 11, 2017</span> </div>\n",
       " <div class=\"views-field views-field-body\"> <div class=\"field-content\">No, we’re not saying that you should talk about the intimate details of your...<a class=\"more-link\" href=\"/hookup/its-important-talk-parent-or-trusted-adult-about-ur-health-they-might-know-more-u-think\">Read more »</a></div> </div> </div>\n",
       " <div class=\"views-row views-row-2 views-row-even views-row-last\">\n",
       " <div class=\"views-field views-field-title\"> <h2 class=\"field-content\"><a href=\"/hookup/confused-about-when-get-tested\">Confused about WHEN to get tested?</a></h2> </div>\n",
       " <div class=\"views-field views-field-created\"> <span class=\"field-content\">January 4, 2017</span> </div>\n",
       " <div class=\"views-field views-field-body\"> <div class=\"field-content\">With so many messages telling you to get tested for STDs, it can be confusing...<a class=\"more-link\" href=\"/hookup/confused-about-when-get-tested\">Read more »</a></div> </div> </div>\n",
       " </div>\n",
       " <div class=\"view-footer\">\n",
       " <a class=\"blog-link\" href=\"/blog\">Visit Blog</a> </div>\n",
       " </div>,\n",
       " <div class=\"view view-homepage-buttons view-id-homepage_buttons view-display-id-block view-dom-id-dbe4f657a1d6718128a855d266f30368\">\n",
       " <div class=\"view-content\">\n",
       " <ul class=\"jcarousel jcarousel-view--homepage-buttons--block jcarousel-dom-2 jcarousel-skin-default\">\n",
       " <li class=\"jcarousel-item-1 odd\" style=\"display: none;\">\n",
       " <div class=\"views-field views-field-field-button-image\"> <div class=\"field-content\"><a href=\"http://www.teensource.org/sign-up-for-the-hookup\"><img height=\"214\" src=\"http://www.teensource.org/sites/default/files/home_slide_3.png\" width=\"190\"/></a></div> </div></li>\n",
       " <li class=\"jcarousel-item-2 even\" style=\"display: none;\">\n",
       " <div class=\"views-field views-field-field-button-image\"> <div class=\"field-content\"><a href=\"http://www.teensource.org/std\"><img height=\"214\" src=\"http://www.teensource.org/sites/default/files/home_slide_2.png\" width=\"190\"/></a></div> </div></li>\n",
       " <li class=\"jcarousel-item-3 odd\" style=\"display: none;\">\n",
       " <div class=\"views-field views-field-field-button-image\"> <div class=\"field-content\"><a href=\"http://www.teensource.org/condoms/free\"><img height=\"213\" src=\"http://www.teensource.org/sites/default/files/home_slide_4.png\" width=\"190\"/></a></div> </div></li>\n",
       " <li class=\"jcarousel-item-4 even\" style=\"display: none;\">\n",
       " <div class=\"views-field views-field-field-button-image\"> <div class=\"field-content\"><a href=\"http://www.teensource.org/birth-control\"><img height=\"214\" src=\"http://www.teensource.org/sites/default/files/home_slide_1.png\" width=\"190\"/></a></div> </div></li>\n",
       " </ul>\n",
       " </div>\n",
       " </div>]"
      ]
     },
     "execution_count": 90,
     "metadata": {},
     "output_type": "execute_result"
    }
   ],
   "source": [
    "viewIds[:3]"
   ]
  },
  {
   "cell_type": "code",
   "execution_count": null,
   "metadata": {
    "collapsed": true
   },
   "outputs": [],
   "source": []
  }
 ],
 "metadata": {
  "kernelspec": {
   "display_name": "Python 3",
   "language": "python",
   "name": "python3"
  },
  "language_info": {
   "codemirror_mode": {
    "name": "ipython",
    "version": 3
   },
   "file_extension": ".py",
   "mimetype": "text/x-python",
   "name": "python",
   "nbconvert_exporter": "python",
   "pygments_lexer": "ipython3",
   "version": "3.5.1"
  }
 },
 "nbformat": 4,
 "nbformat_minor": 0
}
